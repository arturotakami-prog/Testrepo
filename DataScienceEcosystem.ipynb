{
 "cells": [
  {
   "cell_type": "markdown",
   "id": "5de7b29c-ac73-45a3-9a8b-e8a7b1d0c6d8",
   "metadata": {},
   "source": [
    "## Data Science Tools and Ecosystem\n"
   ]
  },
  {
   "cell_type": "markdown",
   "id": "69ec76ac-984f-4ded-9c30-eae2626fe0a8",
   "metadata": {},
   "source": [
    "### En este cuaderno, se resumen las herramientas y ecosistemas de ciencia de datos. Se pueden poner en prácitca algunos cnocicmientos adquiridos durante el curso hasta el momento.\n",
    "\n",
    "**Objetivos**\n",
    "- Mostrar habilidades aprendidas en el curso\n",
    "- Listar lenguajes populares para Ciencia de Datos\n",
    "- Mostrar las librerias comunes de Python\n",
    "- Efectuar operaciones básicas con enteros\n",
    "- Formato en Markdown, negritas, listados, encabezados y tablas\n"
   ]
  },
  {
   "cell_type": "markdown",
   "id": "638acb69-7552-48c2-af7c-cf9ec18f54a7",
   "metadata": {},
   "source": [
    "### Algunos de los lenguajes populares que utilizan los científicos de datos son:\n",
    "1. Phyton\n",
    "2. C+\n",
    "3. Java\n",
    "4. Scrpits en SQL\n",
    "5. Otros más "
   ]
  },
  {
   "cell_type": "markdown",
   "id": "5c8c61a2-6c2b-4787-bf96-3e3fe6f48faa",
   "metadata": {},
   "source": [
    "## Algunas de las bibliotecas comúnmente utilizadas por los científicos de datos incluyen:\n",
    "- NumPy (cálculo numérico)\n",
    "- Pandas (análisis de datos)\n",
    "- Matplotlib (visualización)\n",
    "- TensorFlow (Deep learning)\n",
    "- PyTorch (Machine learning)"
   ]
  },
  {
   "cell_type": "markdown",
   "id": "95b83d5c-b30e-400f-99bb-bc2ede16ec3a",
   "metadata": {},
   "source": [
    "| Herramientas de Ciencia de Datos |\n",
    "|----------------------------------|\n",
    "|Cuadernos Jupyter|\n",
    "|Pytorch|\n",
    "|MLFlow|\n",
    "|Tableau|"
   ]
  },
  {
   "cell_type": "markdown",
   "id": "ad459c29-2294-4599-a833-1a44af012837",
   "metadata": {},
   "source": [
    "### A continuación, se presentan algunos ejemplos de evaluación de expresiones aritméticas en Python"
   ]
  },
  {
   "cell_type": "code",
   "execution_count": 6,
   "id": "88e6c8cb-c708-41a1-b436-1565fdae6169",
   "metadata": {},
   "outputs": [
    {
     "name": "stdout",
     "output_type": "stream",
     "text": [
      "Suma  = 60\n",
      "Resta = 30\n",
      "Multi = 200\n"
     ]
    }
   ],
   "source": [
    "a=10\n",
    "b=20\n",
    "c=30\n",
    "suma= a+b+c\n",
    "print(\"Suma  =\",suma)\n",
    "resta=suma-c\n",
    "print(\"Resta =\",resta)\n",
    "multi=a*b\n",
    "print(\"Multi =\",multi)"
   ]
  },
  {
   "cell_type": "code",
   "execution_count": null,
   "id": "7a994660-af27-4e4c-813f-489bc052858f",
   "metadata": {},
   "outputs": [],
   "source": []
  },
  {
   "cell_type": "code",
   "execution_count": 9,
   "id": "4ef27726-2645-41f7-9c65-c918201a5b96",
   "metadata": {},
   "outputs": [
    {
     "name": "stdout",
     "output_type": "stream",
     "text": [
      "Esta es una expresión aritmética simple para multiplicar y luego sumar enteros:  17\n"
     ]
    }
   ],
   "source": [
    "print(\"Esta es una expresión aritmética simple para multiplicar y luego sumar enteros: \", (3*4)+5)\n"
   ]
  },
  {
   "cell_type": "code",
   "execution_count": 11,
   "id": "5a0f9650-7a93-4154-af4f-a28e39a7c543",
   "metadata": {},
   "outputs": [
    {
     "name": "stdout",
     "output_type": "stream",
     "text": [
      "Esto convertirá 200 minutos a horas dividiendo por 60 3.3333333333333335 horas\n"
     ]
    }
   ],
   "source": [
    "print(\"Esto convertirá 200 minutos a horas dividiendo por 60\",200/60, \"horas\")"
   ]
  },
  {
   "cell_type": "code",
   "execution_count": null,
   "id": "2651d645-6168-4d61-b04d-f85f026dfcc0",
   "metadata": {},
   "outputs": [],
   "source": []
  },
  {
   "cell_type": "markdown",
   "id": "12e68ea2-f5b3-4aea-9ef8-ab1e577dd895",
   "metadata": {},
   "source": [
    "## Autor:\n"
   ]
  },
  {
   "cell_type": "markdown",
   "id": "4c5d2adb-f4dc-46c8-aeb6-ab69c11d1889",
   "metadata": {},
   "source": [
    "Arturo Alfredo Takami Ortega"
   ]
  },
  {
   "cell_type": "code",
   "execution_count": null,
   "id": "e0811f5f-8ded-4e28-9282-6c3150da980f",
   "metadata": {},
   "outputs": [],
   "source": []
  }
 ],
 "metadata": {
  "kernelspec": {
   "display_name": "anaconda-panel-2023.05-py310",
   "language": "python",
   "name": "conda-env-anaconda-panel-2023.05-py310-py"
  },
  "language_info": {
   "codemirror_mode": {
    "name": "ipython",
    "version": 3
   },
   "file_extension": ".py",
   "mimetype": "text/x-python",
   "name": "python",
   "nbconvert_exporter": "python",
   "pygments_lexer": "ipython3",
   "version": "3.11.5"
  }
 },
 "nbformat": 4,
 "nbformat_minor": 5
}
